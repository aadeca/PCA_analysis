{
 "cells": [
  {
   "cell_type": "markdown",
   "id": "3ac033c9-f208-4a72-a933-9a4b43f76e62",
   "metadata": {},
   "source": [
    "<h3> Principal components analysis (PCA) for tourism data </h3>"
   ]
  },
  {
   "cell_type": "code",
   "execution_count": 230,
   "id": "ba42cf10-3658-45ad-a03a-4cd6f18a4bf4",
   "metadata": {},
   "outputs": [],
   "source": [
    "from sklearn.decomposition import PCA\n",
    "import numpy as np\n",
    "import pandas as pd\n",
    "\n",
    "import matplotlib.pyplot as plt\n",
    "import numpy as np\n",
    "import pandas as pd\n",
    "from pandas.api.types import is_numeric_dtype\n",
    "from seaborn import heatmap\n",
    "\n",
    "import matplotlib.pyplot as plt\n",
    "import numpy as np\n",
    "from seaborn import heatmap\n",
    "from seaborn import scatterplot\n",
    "from matplotlib import cm\n",
    "from sklearn.preprocessing import MinMaxScaler\n"
   ]
  },
  {
   "cell_type": "markdown",
   "id": "f688013d-6157-44d8-8d8e-0c2fc8b53b30",
   "metadata": {},
   "source": [
    "<h5>Creating functions</h5>"
   ]
  },
  {
   "cell_type": "code",
   "execution_count": 247,
   "id": "7c32bae3-3a25-4cd8-a297-6c8cc8b4f2c6",
   "metadata": {},
   "outputs": [],
   "source": [
    "def nan_replace_t(t):\n",
    "    assert isinstance(t, pd.DataFrame)\n",
    "    for v in t.columns:\n",
    "        if any(t[v].isna()):\n",
    "            if is_numeric_dtype(t[v]):\n",
    "                t[v].fillna(t[v].mean(), inplace=True)\n",
    "            else:\n",
    "                t[v].fillna(t[v].mode()[0], inplace=True)\n",
    "\n",
    "def tabelare_varianta(alpha):\n",
    "    return pd.DataFrame(data={\n",
    "        \"Variance\": alpha,\n",
    "        \"Cumulative variance\": np.cumsum(alpha),\n",
    "        \"Procent variance\": alpha * 100 / sum(alpha),\n",
    "        \"Procent cumulative variance\": np.cumsum(alpha) * 100 / sum(alpha)\n",
    "    }, index=[\"Comp \" + str(v + 1) for v in range(len(alpha))])\n",
    "\n",
    "        \n",
    "def f_criterii(alpha, std=True, procent_minimal=80):\n",
    "    m = len(alpha)\n",
    "    k1 = np.where(np.cumsum(alpha) * 100 / sum(alpha) > procent_minimal)[0][0]\n",
    "    # Criteriul Kaiser\n",
    "    if std:\n",
    "        k2 = np.where(alpha < 1)[0][0] - 1\n",
    "    else:\n",
    "        k2 = None\n",
    "    return (k1, k2)\n"
   ]
  },
  {
   "cell_type": "code",
   "execution_count": 248,
   "id": "37f8aafa-014a-4384-91a9-001f2199992d",
   "metadata": {},
   "outputs": [],
   "source": [
    "def plot_varianta(alpha, criterii, eticheta_x=\"Components\"):\n",
    "    m = len(alpha)\n",
    "    fig = plt.figure(figsize=(8, 6))\n",
    "    ax = fig.add_subplot(1, 1, 1)\n",
    "    assert isinstance(ax, plt.Axes)\n",
    "    ax.set_title(\"Variance graph\", fontdict={\"fontsize\": 16})\n",
    "    ax.set_xlabel(eticheta_x)\n",
    "    ax.set_ylabel(\"Variance\")\n",
    "    x = np.arange(1, m + 1)\n",
    "    ax.set_xticks(x)\n",
    "    ax.plot(x, alpha)\n",
    "    ax.scatter(x, alpha, color=\"r\")\n",
    "    ax.axhline(alpha[criterii[0]], color=\"b\", label=\"Minimum coverage criterion\")\n",
    "    if criterii[1] is not None:\n",
    "        ax.axhline(1, color=\"m\", label=\"Kaiser criterion\")\n",
    "    ax.legend()\n",
    "\n",
    "\n",
    "def show():\n",
    "    plt.show()\n",
    "\n",
    "def corelograma(t, vmin=-1, cmap=\"RdYlBu\", titlu=\"Correlations\"):\n",
    "    fig = plt.figure(figsize=(8, 6))\n",
    "    ax = fig.add_subplot(1, 1, 1)\n",
    "    ax.set_title(titlu, fontdict={\"fontsize\": 16, \"color\": \"b\"})\n",
    "    heatmap(t, vmin=vmin, vmax=1, cmap=cmap, annot=True, ax=ax)\n"
   ]
  },
  {
   "cell_type": "markdown",
   "id": "d8ed2296-e756-4f3d-9008-fc0c32e40416",
   "metadata": {},
   "source": [
    "<h5>Import data</h5>"
   ]
  },
  {
   "cell_type": "markdown",
   "id": "df249441-2c3c-43a1-964c-9c8a89bab5c6",
   "metadata": {},
   "source": [
    "- X1- Arrivals at tourist accomodation units\n",
    "- X2- Nights spent at tourist accomodation capacity\n",
    "- X3- Net occupancy rate of beds and bedrooms in hotels and similar units\n",
    "- X4- Number of units\n",
    "- X5- Road, rail, and navigable inland waterway networks\n",
    "- X6- Stock vehicles by categories and regions\n",
    "- X7- Victims in road accidents\n"
   ]
  },
  {
   "cell_type": "code",
   "execution_count": 249,
   "id": "87dd0bfa-53cf-4f6a-bf26-4a7ee4f8a436",
   "metadata": {},
   "outputs": [],
   "source": [
    "tabel_date = pd.read_csv(\"date_turism.csv\", index_col=0)\n",
    "variabile_observate = list(tabel_date)[:]"
   ]
  },
  {
   "cell_type": "code",
   "execution_count": 250,
   "id": "dea53812-3131-4f6b-a605-d489a8ded543",
   "metadata": {},
   "outputs": [
    {
     "name": "stdout",
     "output_type": "stream",
     "text": [
      "           x1        x2     x3    x4    x5       x6     x7\n",
      "COD                                                       \n",
      "BE    7376417  20177486  23.92  9853  1763  6946638  36613\n",
      "BE1    992289   1782873  20.27   397    11   582586   3703\n",
      "BE10   992289   1782873  20.27   397    11   582586   3703\n",
      "BE2   4431080  13276415  24.01  6144   883  4228665  22522\n",
      "BE21   779057   2056957  18.91  1168   220  1102614   6460\n",
      "...       ...       ...    ...   ...   ...      ...    ...\n",
      "FI19  1720519   2927719  28.58   272   115  1207987   1219\n",
      "FI1B  1568024   2842555  27.29   175   322  1092711   1037\n",
      "FI1C  1255002   2217022  29.42   238   351   965052   1105\n",
      "FI2     85279    160604  17.02    75     0    31642     42\n",
      "FI20    85279    160604  17.02    75     0    31642     42\n",
      "\n",
      "[107 rows x 7 columns]\n"
     ]
    }
   ],
   "source": [
    "nan_replace_t(tabel_date)\n",
    "\n",
    "x = tabel_date[variabile_observate]\n",
    "\n",
    "print(x)"
   ]
  },
  {
   "cell_type": "markdown",
   "id": "ffdcd160-ee75-40c3-abd5-dabe00caa7b9",
   "metadata": {},
   "source": [
    "<h5>PCA model</h5>"
   ]
  },
  {
   "cell_type": "code",
   "execution_count": 251,
   "id": "982fbb24-e678-459d-9d71-3885e5e69f8f",
   "metadata": {},
   "outputs": [
    {
     "data": {
      "text/html": [
       "<style>#sk-container-id-11 {color: black;background-color: white;}#sk-container-id-11 pre{padding: 0;}#sk-container-id-11 div.sk-toggleable {background-color: white;}#sk-container-id-11 label.sk-toggleable__label {cursor: pointer;display: block;width: 100%;margin-bottom: 0;padding: 0.3em;box-sizing: border-box;text-align: center;}#sk-container-id-11 label.sk-toggleable__label-arrow:before {content: \"▸\";float: left;margin-right: 0.25em;color: #696969;}#sk-container-id-11 label.sk-toggleable__label-arrow:hover:before {color: black;}#sk-container-id-11 div.sk-estimator:hover label.sk-toggleable__label-arrow:before {color: black;}#sk-container-id-11 div.sk-toggleable__content {max-height: 0;max-width: 0;overflow: hidden;text-align: left;background-color: #f0f8ff;}#sk-container-id-11 div.sk-toggleable__content pre {margin: 0.2em;color: black;border-radius: 0.25em;background-color: #f0f8ff;}#sk-container-id-11 input.sk-toggleable__control:checked~div.sk-toggleable__content {max-height: 200px;max-width: 100%;overflow: auto;}#sk-container-id-11 input.sk-toggleable__control:checked~label.sk-toggleable__label-arrow:before {content: \"▾\";}#sk-container-id-11 div.sk-estimator input.sk-toggleable__control:checked~label.sk-toggleable__label {background-color: #d4ebff;}#sk-container-id-11 div.sk-label input.sk-toggleable__control:checked~label.sk-toggleable__label {background-color: #d4ebff;}#sk-container-id-11 input.sk-hidden--visually {border: 0;clip: rect(1px 1px 1px 1px);clip: rect(1px, 1px, 1px, 1px);height: 1px;margin: -1px;overflow: hidden;padding: 0;position: absolute;width: 1px;}#sk-container-id-11 div.sk-estimator {font-family: monospace;background-color: #f0f8ff;border: 1px dotted black;border-radius: 0.25em;box-sizing: border-box;margin-bottom: 0.5em;}#sk-container-id-11 div.sk-estimator:hover {background-color: #d4ebff;}#sk-container-id-11 div.sk-parallel-item::after {content: \"\";width: 100%;border-bottom: 1px solid gray;flex-grow: 1;}#sk-container-id-11 div.sk-label:hover label.sk-toggleable__label {background-color: #d4ebff;}#sk-container-id-11 div.sk-serial::before {content: \"\";position: absolute;border-left: 1px solid gray;box-sizing: border-box;top: 0;bottom: 0;left: 50%;z-index: 0;}#sk-container-id-11 div.sk-serial {display: flex;flex-direction: column;align-items: center;background-color: white;padding-right: 0.2em;padding-left: 0.2em;position: relative;}#sk-container-id-11 div.sk-item {position: relative;z-index: 1;}#sk-container-id-11 div.sk-parallel {display: flex;align-items: stretch;justify-content: center;background-color: white;position: relative;}#sk-container-id-11 div.sk-item::before, #sk-container-id-11 div.sk-parallel-item::before {content: \"\";position: absolute;border-left: 1px solid gray;box-sizing: border-box;top: 0;bottom: 0;left: 50%;z-index: -1;}#sk-container-id-11 div.sk-parallel-item {display: flex;flex-direction: column;z-index: 1;position: relative;background-color: white;}#sk-container-id-11 div.sk-parallel-item:first-child::after {align-self: flex-end;width: 50%;}#sk-container-id-11 div.sk-parallel-item:last-child::after {align-self: flex-start;width: 50%;}#sk-container-id-11 div.sk-parallel-item:only-child::after {width: 0;}#sk-container-id-11 div.sk-dashed-wrapped {border: 1px dashed gray;margin: 0 0.4em 0.5em 0.4em;box-sizing: border-box;padding-bottom: 0.4em;background-color: white;}#sk-container-id-11 div.sk-label label {font-family: monospace;font-weight: bold;display: inline-block;line-height: 1.2em;}#sk-container-id-11 div.sk-label-container {text-align: center;}#sk-container-id-11 div.sk-container {/* jupyter's `normalize.less` sets `[hidden] { display: none; }` but bootstrap.min.css set `[hidden] { display: none !important; }` so we also need the `!important` here to be able to override the default hidden behavior on the sphinx rendered scikit-learn.org. See: https://github.com/scikit-learn/scikit-learn/issues/21755 */display: inline-block !important;position: relative;}#sk-container-id-11 div.sk-text-repr-fallback {display: none;}</style><div id=\"sk-container-id-11\" class=\"sk-top-container\"><div class=\"sk-text-repr-fallback\"><pre>PCA()</pre><b>In a Jupyter environment, please rerun this cell to show the HTML representation or trust the notebook. <br />On GitHub, the HTML representation is unable to render, please try loading this page with nbviewer.org.</b></div><div class=\"sk-container\" hidden><div class=\"sk-item\"><div class=\"sk-estimator sk-toggleable\"><input class=\"sk-toggleable__control sk-hidden--visually\" id=\"sk-estimator-id-11\" type=\"checkbox\" checked><label for=\"sk-estimator-id-11\" class=\"sk-toggleable__label sk-toggleable__label-arrow\">PCA</label><div class=\"sk-toggleable__content\"><pre>PCA()</pre></div></div></div></div></div>"
      ],
      "text/plain": [
       "PCA()"
      ]
     },
     "execution_count": 251,
     "metadata": {},
     "output_type": "execute_result"
    }
   ],
   "source": [
    "x = (x - np.mean(x,axis=0))/np.std(x,axis=0)\n",
    "model_acp = PCA()\n",
    "model_acp.fit(x)"
   ]
  },
  {
   "cell_type": "code",
   "execution_count": 257,
   "id": "23ddc710-77ba-4f3e-be09-c64c13086c10",
   "metadata": {},
   "outputs": [
    {
     "name": "stdout",
     "output_type": "stream",
     "text": [
      "        Variance  Cumulative variance  Procent variance  \\\n",
      "Comp 1  4.715437             4.715437         67.363387   \n",
      "Comp 2  1.205203             5.920640         17.217187   \n",
      "Comp 3  0.465405             6.386045          6.648639   \n",
      "Comp 4  0.305549             6.691594          4.364986   \n",
      "Comp 5  0.150282             6.841876          2.146892   \n",
      "Comp 6  0.101056             6.942932          1.443652   \n",
      "Comp 7  0.057068             7.000000          0.815258   \n",
      "\n",
      "        Procent cumulative variance  \n",
      "Comp 1                    67.363387  \n",
      "Comp 2                    84.580573  \n",
      "Comp 3                    91.229212  \n",
      "Comp 4                    95.594198  \n",
      "Comp 5                    97.741090  \n",
      "Comp 6                    99.184742  \n",
      "Comp 7                   100.000000  \n"
     ]
    },
    {
     "data": {
      "image/png": "[encoded data removed]",
      "text/plain": [
       "<Figure size 800x600 with 1 Axes>"
      ]
     },
     "metadata": {},
     "output_type": "display_data"
    }
   ],
   "source": [
    "n,m = np.shape(x)\n",
    "alpha = model_acp.explained_variance_*(n-1)/n\n",
    "criterii = f_criterii(alpha,procent_minimal=80)\n",
    "plot_varianta(alpha, criterii)\n",
    "tabel_varianta = tabelare_varianta(alpha)\n",
    "print(tabel_varianta)\n",
    "show()"
   ]
  },
  {
   "cell_type": "markdown",
   "id": "b9b4aa4c-a95c-4c86-a466-d0b2ec7d10c8",
   "metadata": {},
   "source": [
    "I have created a table which contains the variance of principal components and the percentage of them. We have also created a graph where which shows the number of principal components according to Kaiser criterion and Minimum Coverage criterion.\n",
    "So, following the results obtained in both variance table and graph, we can will keep two components in analysis."
   ]
  },
  {
   "cell_type": "code",
   "execution_count": 255,
   "id": "6b99eeb8-2e3b-44c4-ae31-2e2f09dd19b6",
   "metadata": {},
   "outputs": [
    {
     "name": "stdout",
     "output_type": "stream",
     "text": [
      "        Comp 1    Comp 2    Comp 3    Comp 4    Comp 5    Comp 6    Comp 7\n",
      "COD                                                                       \n",
      "BE    2.050273 -1.276339 -1.196491 -0.875131 -0.832733 -0.080675  4.545533\n",
      "BE1  -0.810841 -0.802442 -0.811146  0.452790  0.450123 -0.164677 -0.191458\n",
      "BE10 -0.810841 -0.802442 -0.811146  0.452790  0.450123 -0.164677 -0.191458\n",
      "BE2   0.842816 -0.789383 -1.047806 -0.228278 -0.544908 -0.186225  3.076349\n",
      "BE21 -0.642418 -1.138984 -0.795849  0.290086  0.422067 -0.151916  0.667733\n",
      "...        ...       ...       ...       ...       ...       ...       ...\n",
      "FI19 -0.640379  0.290637 -0.142784 -0.443876 -0.675803 -0.416879 -0.958695\n",
      "FI1B -0.641782  0.056946  0.073108 -0.474301 -0.239968 -0.297413 -1.067991\n",
      "FI1C -0.653195  0.307380  0.293237 -0.662331 -0.571764  0.159250 -0.824532\n",
      "FI2  -1.066314 -1.211333 -0.631643  0.862491  0.906649 -0.535750 -0.305121\n",
      "FI20 -1.066314 -1.211333 -0.631643  0.862491  0.906649 -0.535750 -0.305121\n",
      "\n",
      "[107 rows x 7 columns]\n"
     ]
    }
   ],
   "source": [
    "c = model_acp.transform(x)\n",
    "s_c = c / np.sqrt(alpha)\n",
    "t_s = pd.DataFrame(s_c, tabel_date.index, tabel_varianta.index)\n",
    "print(t_s)"
   ]
  },
  {
   "cell_type": "markdown",
   "id": "3186ad01-83b3-40e4-b24b-f01e52db1e26",
   "metadata": {},
   "source": [
    "I have also calculated the principal scores as you can see in the table from above.These scores show how each country is positioned in relation to each principal component. So, higher values in a particular principal component indicate a greater contribution to describe the variation observed for that country."
   ]
  },
  {
   "cell_type": "code",
   "execution_count": 256,
   "id": "960ff389-4059-4432-9de0-d779336e9110",
   "metadata": {},
   "outputs": [
    {
     "name": "stdout",
     "output_type": "stream",
     "text": [
      "      Comp 1    Comp 2    Comp 3    Comp 4    Comp 5    Comp 6    Comp 7\n",
      "x1  0.956341  0.068367 -0.143873  0.141098 -0.025992  0.020843 -0.197534\n",
      "x2  0.859371  0.396242 -0.038438  0.124766  0.266836 -0.114034  0.056796\n",
      "x3  0.261404  0.928382  0.169160 -0.152015 -0.118541  0.063051  0.004823\n",
      "x4  0.887546 -0.133282  0.191043  0.341927 -0.182669  0.004228  0.087754\n",
      "x5  0.766787 -0.344431  0.491548 -0.182793  0.111761  0.070414 -0.030392\n",
      "x6  0.903587 -0.175409 -0.117906 -0.287446 -0.133433 -0.195272  0.017282\n",
      "x7  0.895449 -0.120260 -0.350135 -0.118377  0.026280  0.201332  0.076657\n"
     ]
    }
   ],
   "source": [
    "r = np.corrcoef(x,c,rowvar=False)[:m,m:]\n",
    "t_r = pd.DataFrame(r,variabile_observate,t_s.columns)\n",
    "print(t_r)"
   ]
  },
  {
   "cell_type": "markdown",
   "id": "5abdd71b-bd73-4620-b140-b7af406df035",
   "metadata": {},
   "source": [
    "Therefore, we observe that the most variables are correlated very well with the first principal component. There is only one exception with the variable \"Net occupancy rate of beds and bedrooms in hotels and similar units\" because this one is correlated with the second principal component."
   ]
  },
  {
   "cell_type": "markdown",
   "id": "e77046bb-444b-4d47-ace2-594aad7205c1",
   "metadata": {},
   "source": [
    "Due to these correlations, we can rename the principal components:\n",
    "\n",
    "- Principal component 1: Tourist capacity and transport\n",
    "- Principal component 2: Occupancy of accomodation units"
   ]
  }
 ],
 "metadata": {
  "kernelspec": {
   "display_name": "Python 3 (ipykernel)",
   "language": "python",
   "name": "python3"
  },
  "language_info": {
   "codemirror_mode": {
    "name": "ipython",
    "version": 3
   },
   "file_extension": ".py",
   "mimetype": "text/x-python",
   "name": "python",
   "nbconvert_exporter": "python",
   "pygments_lexer": "ipython3",
   "version": "3.11.7"
  }
 },
 "nbformat": 4,
 "nbformat_minor": 5
}
